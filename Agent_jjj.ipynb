{
  "nbformat": 4,
  "nbformat_minor": 0,
  "metadata": {
    "colab": {
      "provenance": [],
      "authorship_tag": "ABX9TyM6cTgO0OgIa6Jv7lUcDw5A",
      "include_colab_link": true
    },
    "kernelspec": {
      "name": "python3",
      "display_name": "Python 3"
    },
    "language_info": {
      "name": "python"
    }
  },
  "cells": [
    {
      "cell_type": "markdown",
      "metadata": {
        "id": "view-in-github",
        "colab_type": "text"
      },
      "source": [
        "<a href=\"https://colab.research.google.com/github/larissagarcia/Agent-IA-csv/blob/main/Agent_jjj.ipynb\" target=\"_parent\"><img src=\"https://colab.research.google.com/assets/colab-badge.svg\" alt=\"Open In Colab\"/></a>"
      ]
    },
    {
      "cell_type": "code",
      "execution_count": 56,
      "metadata": {
        "colab": {
          "base_uri": "https://localhost:8080/"
        },
        "id": "xqZvpkQIN77f",
        "outputId": "5a8f8cb1-0b51-41ac-d3d6-611273a1ed9e"
      },
      "outputs": [
        {
          "output_type": "stream",
          "name": "stdout",
          "text": [
            "W: Skipping acquire of configured file 'main/source/Sources' as repository 'https://r2u.stat.illinois.edu/ubuntu jammy InRelease' does not seem to provide it (sources.list entry misspelt?)\n"
          ]
        }
      ],
      "source": [
        "# Célula 1\n",
        "!pip install -q streamlit pandas numpy matplotlib plotly scikit-learn sqlalchemy openai fpdf python-dotenv pyngrok\n",
        "# instalar node/npm para localtunnel (opcional)\n",
        "!apt-get update -qq && apt-get install -y -qq nodejs npm"
      ]
    },
    {
      "cell_type": "code",
      "source": [
        "%%bash\n",
        "# Célula 2: cria arquivos do projeto\n",
        "mkdir -p /content/project\n",
        "\n",
        "cat > /content/project/eda.py <<'PY'\n",
        "import pandas as pd\n",
        "import matplotlib.pyplot as plt\n",
        "from sklearn.ensemble import IsolationForest\n",
        "\n",
        "def summary_stats(df):\n",
        "    return df.describe(include='all', datetime_is_numeric=True).T\n",
        "\n",
        "def hist_plot(df, column, bins=50):\n",
        "    fig, ax = plt.subplots()\n",
        "    df[column].dropna().hist(bins=bins, ax=ax)\n",
        "    ax.set_title(f\"Histograma: {column}\")\n",
        "    return fig\n",
        "\n",
        "def corr_matrix(df):\n",
        "    return df.corr()\n",
        "\n",
        "def detect_outliers_isolationforest(df, numeric_cols, contamination=0.01):\n",
        "    if not numeric_cols:\n",
        "        return df.iloc[0:0]\n",
        "    model = IsolationForest(contamination=contamination, random_state=42)\n",
        "    X = df[numeric_cols].fillna(0)\n",
        "    preds = model.fit_predict(X)\n",
        "    return df[preds == -1]\n",
        "PY\n",
        "\n",
        "cat > /content/project/memory.py <<'PY'\n",
        "import sqlite3, json\n",
        "from datetime import datetime\n",
        "\n",
        "class Memory:\n",
        "    def __init__(self, db_path=\"/content/project/memory.sqlite\"):\n",
        "        self.conn = sqlite3.connect(db_path, check_same_thread=False)\n",
        "        self._create_tables()\n",
        "    def _create_tables(self):\n",
        "        c = self.conn.cursor()\n",
        "        c.execute(\"\"\"CREATE TABLE IF NOT EXISTS interactions (\n",
        "                        id INTEGER PRIMARY KEY AUTOINCREMENT,\n",
        "                        timestamp TEXT,\n",
        "                        question TEXT,\n",
        "                        answer TEXT,\n",
        "                        meta TEXT\n",
        "                    )\"\"\")\n",
        "        self.conn.commit()\n",
        "    def add_interaction(self, question, answer, meta=None):\n",
        "        c = self.conn.cursor()\n",
        "        c.execute(\"INSERT INTO interactions (timestamp, question, answer, meta) VALUES (?, ?, ?, ?)\",\n",
        "                  (datetime.utcnow().isoformat(), question, answer, json.dumps(meta or {})))\n",
        "        self.conn.commit()\n",
        "    def get_all(self, limit=50):\n",
        "        c = self.conn.cursor()\n",
        "        c.execute(\"SELECT timestamp, question, answer, meta FROM interactions ORDER BY id DESC LIMIT ?\", (limit,))\n",
        "        return c.fetchall()\n",
        "PY\n",
        "\n",
        "cat > /content/project/agent.py <<'PY'\n",
        "import pandas as pd\n",
        "import numpy as np\n",
        "import matplotlib.pyplot as plt\n",
        "from eda import summary_stats, hist_plot, corr_matrix, detect_outliers_isolationforest\n",
        "from sklearn.cluster import KMeans\n",
        "\n",
        "class Agent:\n",
        "    def __init__(self, df, memory):\n",
        "        self.df = df.copy()\n",
        "        self.memory = memory\n",
        "        self.numeric_cols = self.df.select_dtypes(include=['number']).columns.tolist()\n",
        "        self.categorical_cols = self.df.select_dtypes(exclude=['number']).columns.tolist()\n",
        "\n",
        "    def handle_question(self, question: str):\n",
        "        q = question.lower()\n",
        "\n",
        "        # --- 1) Descrição dos Dados ---\n",
        "        if \"tipo\" in q or \"dados\" in q:\n",
        "            text = f\"Colunas numéricas: {self.numeric_cols}\\nColunas categóricas: {self.categorical_cols}\"\n",
        "            self.memory.add_interaction(question, text)\n",
        "            return {\"text\": text}\n",
        "\n",
        "        if \"distribui\" in q or \"histograma\" in q:\n",
        "            figs = []\n",
        "            for col in self.numeric_cols[:6]:\n",
        "                figs.append(hist_plot(self.df, col))\n",
        "            text = \"Distribuição (histogramas) das principais variáveis numéricas.\"\n",
        "            self.memory.add_interaction(question, text)\n",
        "            return {\"text\": text, \"fig\": figs[0]}\n",
        "\n",
        "        if \"intervalo\" in q or \"mínimo\" in q or \"máximo\" in q:\n",
        "            stats = self.df[self.numeric_cols].agg(['min','max']).T\n",
        "            text = \"Intervalos (mínimo e máximo) das variáveis numéricas.\"\n",
        "            self.memory.add_interaction(question, text)\n",
        "            return {\"text\": text, \"table\": stats}\n",
        "\n",
        "        if \"média\" in q or \"mediana\" in q or \"tendência central\" in q:\n",
        "            stats = self.df[self.numeric_cols].agg(['mean','median']).T\n",
        "            text = \"Médias e medianas das variáveis numéricas.\"\n",
        "            self.memory.add_interaction(question, text)\n",
        "            return {\"text\": text, \"table\": stats}\n",
        "\n",
        "        if \"variabilidade\" in q or \"desvio padrão\" in q or \"variância\" in q:\n",
        "            stats = self.df[self.numeric_cols].agg(['std','var']).T\n",
        "            text = \"Medidas de variabilidade (desvio padrão e variância).\"\n",
        "            self.memory.add_interaction(question, text)\n",
        "            return {\"text\": text, \"table\": stats}\n",
        "\n",
        "        # --- 2) Padrões e Tendências ---\n",
        "        if \"tendência\" in q or \"temporal\" in q:\n",
        "            time_cols = [c for c in self.df.columns if \"time\" in c.lower() or \"date\" in c.lower()]\n",
        "            if time_cols:\n",
        "                col = time_cols[0]\n",
        "                ts = self.df.groupby(col).size()\n",
        "                fig, ax = plt.subplots()\n",
        "                ts.plot(ax=ax)\n",
        "                ax.set_title(f\"Tendência temporal por {col}\")\n",
        "                text = f\"Tendência temporal detectada pela coluna {col}.\"\n",
        "                self.memory.add_interaction(question, text)\n",
        "                return {\"text\": text, \"fig\": fig}\n",
        "            else:\n",
        "                text = \"Não foi encontrada coluna temporal explícita.\"\n",
        "                self.memory.add_interaction(question, text)\n",
        "                return {\"text\": text}\n",
        "\n",
        "        if \"frequente\" in q or \"menos frequente\" in q or \"moda\" in q:\n",
        "            freq = {}\n",
        "            for col in self.categorical_cols[:5]:\n",
        "                freq[col] = self.df[col].value_counts().head(5).to_dict()\n",
        "            text = \"Valores mais frequentes por variável categórica.\"\n",
        "            self.memory.add_interaction(question, text)\n",
        "            return {\"text\": text, \"table\": pd.DataFrame(freq)}\n",
        "\n",
        "        if \"cluster\" in q or \"agrup\" in q:\n",
        "            if len(self.numeric_cols) >= 2:\n",
        "                km = KMeans(n_clusters=3, random_state=42).fit(self.df[self.numeric_cols].fillna(0))\n",
        "                df2 = self.df.copy()\n",
        "                df2[\"_cluster\"] = km.labels_\n",
        "                text = \"Clusterização aplicada (k=3).\"\n",
        "                self.memory.add_interaction(question, text)\n",
        "                return {\"text\": text, \"table\": df2[\"_cluster\"].value_counts().reset_index().rename(columns={'index':'cluster','_cluster':'count'})}\n",
        "            else:\n",
        "                return {\"text\":\"Poucas colunas numéricas para aplicar clusters.\"}\n",
        "\n",
        "        # --- 3) Detecção de Outliers ---\n",
        "        if \"outlier\" in q or \"atípico\" in q or \"anomalia\" in q:\n",
        "            out = detect_outliers_isolationforest(self.df, self.numeric_cols)\n",
        "            text = f\"Foram detectados {len(out)} outliers usando IsolationForest.\"\n",
        "            self.memory.add_interaction(question, text)\n",
        "            return {\"text\": text, \"table\": out.head(50)}\n",
        "\n",
        "        # --- 4) Relações entre Variáveis ---\n",
        "        if \"correlação\" in q or \"relacion\" in q:\n",
        "            corr = corr_matrix(self.df)\n",
        "            text = \"Matriz de correlação entre variáveis numéricas.\"\n",
        "            self.memory.add_interaction(question, text)\n",
        "            return {\"text\": text, \"table\": corr}\n",
        "\n",
        "        if \"dispersão\" in q or \"scatter\" in q:\n",
        "            if len(self.numeric_cols) >= 2:\n",
        "                x, y = self.numeric_cols[:2]\n",
        "                fig, ax = plt.subplots()\n",
        "                ax.scatter(self.df[x], self.df[y], alpha=0.3)\n",
        "                ax.set_xlabel(x); ax.set_ylabel(y); ax.set_title(f\"Dispersão entre {x} e {y}\")\n",
        "                text = f\"Gráfico de dispersão entre {x} e {y}.\"\n",
        "                self.memory.add_interaction(question, text)\n",
        "                return {\"text\": text, \"fig\": fig}\n",
        "            else:\n",
        "                return {\"text\":\"Não há colunas numéricas suficientes para scatter plot.\"}\n",
        "\n",
        "        # --- fallback ---\n",
        "        text = \"Não reconheci a pergunta. Exemplos: tipos de dados, distribuições, intervalos, médias, variabilidade, tendências, frequências, clusters, outliers, correlação, dispersão.\"\n",
        "        self.memory.add_interaction(question, text)\n",
        "        return {\"text\": text}\n",
        "PY\n",
        "\n",
        "cat > /content/project/report_generator.py <<'PY'\n",
        "from fpdf import FPDF\n",
        "\n",
        "def generate_pdf_report(memory, output_path=\"/content/project/Agentes_Autonomos_Relatorio.pdf\"):\n",
        "    pdf = FPDF()\n",
        "    pdf.set_auto_page_break(True, margin=15)\n",
        "    pdf.add_page()\n",
        "    pdf.set_font(\"Arial\", \"B\", 14)\n",
        "    pdf.cell(0,10, \"Relatório - Agente EDA\", ln=True, align=\"C\")\n",
        "    pdf.ln(6)\n",
        "    pdf.set_font(\"Arial\", size=11)\n",
        "    interactions = memory.get_all(limit=6)\n",
        "    if not interactions:\n",
        "        pdf.multi_cell(0,6, \"Sem interações.\")\n",
        "    for ts, q, a, meta in interactions:\n",
        "        pdf.multi_cell(0,6, f\"Pergunta: {q}\")\n",
        "        pdf.multi_cell(0,6, f\"Resposta (resumo): {a}\")\n",
        "        pdf.ln(2)\n",
        "    pdf.output(output_path)\n",
        "    return output_path\n",
        "PY\n",
        "\n",
        "cat > /content/project/app.py <<'PY'\n",
        "import streamlit as st\n",
        "import pandas as pd\n",
        "from memory import Memory\n",
        "from agent import Agent\n",
        "from report_generator import generate_pdf_report\n",
        "\n",
        "st.set_page_config(page_title=\"Agente EDA (Colab)\", layout=\"wide\")\n",
        "st.title(\"Agente E.D.A. — Colab\")\n",
        "\n",
        "uploaded = st.file_uploader(\"Carregue um CSV\", type=[\"csv\",\"zip\"])\n",
        "if uploaded is None:\n",
        "    st.info(\"Envie um CSV para começar (ex.: creditcardfraud.csv).\")\n",
        "    st.stop()\n",
        "\n",
        "# lê CSV\n",
        "import io\n",
        "df = pd.read_csv(io.BytesIO(uploaded.read()))\n",
        "st.write(f\"Linhas: {df.shape[0]} — Colunas: {df.shape[1]}\")\n",
        "st.dataframe(df.head())\n",
        "\n",
        "# init\n",
        "mem = Memory(\"/content/project/memory.sqlite\")\n",
        "agent = Agent(df, mem)\n",
        "\n",
        "q = st.text_input(\"Pergunta sobre o dataset (ex.: 'Mostre histograma da coluna Amount')\")\n",
        "if st.button(\"Enviar pergunta\"):\n",
        "    if not q.strip():\n",
        "        st.warning(\"Digite uma pergunta.\")\n",
        "    else:\n",
        "        with st.spinner(\"Processando...\"):\n",
        "            resp = agent.handle_question(q)\n",
        "        st.markdown(\"### Resposta do agente\")\n",
        "        st.write(resp.get(\"text\"))\n",
        "        if \"table\" in resp:\n",
        "            st.dataframe(resp[\"table\"])\n",
        "        if \"fig\" in resp:\n",
        "            st.pyplot(resp[\"fig\"])\n",
        "\n",
        "if st.button(\"Gerar relatório PDF\"):\n",
        "    pdf_path = generate_pdf_report(mem, output_path=\"/content/project/Agentes_Autonomos_Relatorio.pdf\")\n",
        "    with open(pdf_path, \"rb\") as f:\n",
        "        st.download_button(\"Download Relatório PDF\", f, file_name=\"Agentes_Autonomos_Relatorio.pdf\")\n",
        "PY"
      ],
      "metadata": {
        "id": "dxERRRsCVOgL"
      },
      "execution_count": 57,
      "outputs": []
    },
    {
      "cell_type": "code",
      "source": [
        "# Célula 3 (opcional)\n",
        "from google.colab import drive\n",
        "drive.mount('/content/drive')\n",
        "# recomenda: criar /content/drive/MyDrive/eda_agent_project e copiar arquivos lá para persistência\n"
      ],
      "metadata": {
        "colab": {
          "base_uri": "https://localhost:8080/"
        },
        "id": "yWYkHzfuVorS",
        "outputId": "e881aa3b-73d5-4cc2-8f6f-3da65d026b7b"
      },
      "execution_count": 58,
      "outputs": [
        {
          "output_type": "stream",
          "name": "stdout",
          "text": [
            "Drive already mounted at /content/drive; to attempt to forcibly remount, call drive.mount(\"/content/drive\", force_remount=True).\n"
          ]
        }
      ]
    },
    {
      "cell_type": "code",
      "source": [
        "# Célula 4 (opcional, insira apenas se for usar LLM)\n",
        "from getpass import getpass\n",
        "import os\n",
        "key = getpass(\"Cole sua OPENAI_API_KEY (entrada oculta): \")\n",
        "os.environ[\"OPENAI_API_KEY\"] = key\n",
        "os.environ[\"AGENT_MODE\"] = \"rule\"  # por padrão 'rule'; altere p/ 'llm' se quiser ativar LLM\n",
        "print(\"Variáveis configuradas (AGENT_MODE está em rule por padrão).\")\n"
      ],
      "metadata": {
        "colab": {
          "base_uri": "https://localhost:8080/"
        },
        "id": "F5TPdhYNVyBT",
        "outputId": "92c22f9b-b6c9-4f31-f23c-740d46fdd4c8"
      },
      "execution_count": 59,
      "outputs": [
        {
          "output_type": "stream",
          "name": "stdout",
          "text": [
            "Cole sua OPENAI_API_KEY (entrada oculta): ··········\n",
            "Variáveis configuradas (AGENT_MODE está em rule por padrão).\n"
          ]
        }
      ]
    },
    {
      "cell_type": "code",
      "source": [
        "# Célula 5A\n",
        "import os, time, subprocess, sys\n",
        "get_ipython().system_raw('streamlit run /content/project/app.py --server.port 8501 &')\n",
        "print(\"Streamlit iniciado em background na porta 8501.\")\n",
        "time.sleep(1)\n"
      ],
      "metadata": {
        "colab": {
          "base_uri": "https://localhost:8080/"
        },
        "id": "5_ZJQWvlV32a",
        "outputId": "20000437-c040-4e85-f4f6-dfb10c7c012b"
      },
      "execution_count": 60,
      "outputs": [
        {
          "output_type": "stream",
          "name": "stdout",
          "text": [
            "Streamlit iniciado em background na porta 8501.\n"
          ]
        }
      ]
    },
    {
      "cell_type": "code",
      "source": [
        "!pip install pyngrok"
      ],
      "metadata": {
        "colab": {
          "base_uri": "https://localhost:8080/"
        },
        "id": "u4uNxkrta6_p",
        "outputId": "2fc8840c-c879-4e53-e145-f97ed954c66a"
      },
      "execution_count": 61,
      "outputs": [
        {
          "output_type": "stream",
          "name": "stdout",
          "text": [
            "Requirement already satisfied: pyngrok in /usr/local/lib/python3.12/dist-packages (7.4.0)\n",
            "Requirement already satisfied: PyYAML>=5.1 in /usr/local/lib/python3.12/dist-packages (from pyngrok) (6.0.2)\n"
          ]
        }
      ]
    },
    {
      "cell_type": "code",
      "source": [
        "from getpass import getpass\n",
        "from pyngrok import ngrok\n",
        "\n",
        "# pede para você digitar o token (não aparece na tela)\n",
        "authtoken = getpass(\"Cole aqui seu ngrok authtoken (entrada oculta): \")\n",
        "\n",
        "# configura o token\n",
        "ngrok.set_auth_token(authtoken)\n",
        "print(\"✅ Token configurado com sucesso!\")"
      ],
      "metadata": {
        "colab": {
          "base_uri": "https://localhost:8080/"
        },
        "id": "52Bmzsvwa7z7",
        "outputId": "ca06fdc7-ed55-4218-e286-26502063e04a"
      },
      "execution_count": 66,
      "outputs": [
        {
          "output_type": "stream",
          "name": "stdout",
          "text": [
            "Cole aqui seu ngrok authtoken (entrada oculta): ··········\n",
            "✅ Token configurado com sucesso!\n"
          ]
        }
      ]
    },
    {
      "cell_type": "code",
      "source": [
        "# roda o Streamlit em background\n",
        "get_ipython().system_raw('streamlit run /content/project/app.py --server.port 8501 &')\n",
        "\n",
        "# cria o túnel com ngrok\n",
        "public_url = ngrok.connect(8501)\n",
        "print(\"🌍 URL pública:\", public_url)"
      ],
      "metadata": {
        "colab": {
          "base_uri": "https://localhost:8080/",
          "height": 497
        },
        "id": "yewY5-Cxa-Q2",
        "outputId": "7c16359f-f9bd-4fb4-8e0c-08835eef56e5"
      },
      "execution_count": 68,
      "outputs": [
        {
          "output_type": "stream",
          "name": "stderr",
          "text": [
            "WARNING:pyngrok.process.ngrok:t=2025-10-01T02:13:25+0000 lvl=warn msg=\"failed to start tunnel\" pg=/api/tunnels id=a7a09822afbc339e err=\"failed to start tunnel: Your account may not run more than 5 endpoints over a single ngrok agent session.\\nThe endpoints already running on this session are:\\ntn_33Re2dWZ3rt1MiCwyti2Mh8J0j7, tn_33ReBAy1yFN7IiK6yBhA9uOWcLV, tn_33ReyXLxJrNSuR2VWSpaWa9E8is, tn_33RbZ1eqBF5edWOibrnJHCej3vv, tn_33RbeSnRP6UjWgGtyqdZw9Ade43.\\nUpgrade to a Pay-as-you-go plan at: https://dashboard.ngrok.com/billing/choose-a-plan?plan=paygo\\r\\n\\r\\nERR_NGROK_324\\r\\n\"\n"
          ]
        },
        {
          "output_type": "error",
          "ename": "PyngrokNgrokHTTPError",
          "evalue": "ngrok client exception, API returned 502: {\"error_code\":103,\"status_code\":502,\"msg\":\"failed to start tunnel\",\"details\":{\"err\":\"failed to start tunnel: Your account may not run more than 5 endpoints over a single ngrok agent session.\\nThe endpoints already running on this session are:\\ntn_33Re2dWZ3rt1MiCwyti2Mh8J0j7, tn_33ReBAy1yFN7IiK6yBhA9uOWcLV, tn_33ReyXLxJrNSuR2VWSpaWa9E8is, tn_33RbZ1eqBF5edWOibrnJHCej3vv, tn_33RbeSnRP6UjWgGtyqdZw9Ade43.\\nUpgrade to a Pay-as-you-go plan at: https://dashboard.ngrok.com/billing/choose-a-plan?plan=paygo\\r\\n\\r\\nERR_NGROK_324\\r\\n\"}}\n",
          "traceback": [
            "\u001b[0;31m---------------------------------------------------------------------------\u001b[0m",
            "\u001b[0;31mHTTPError\u001b[0m                                 Traceback (most recent call last)",
            "\u001b[0;32m/usr/local/lib/python3.12/dist-packages/pyngrok/ngrok.py\u001b[0m in \u001b[0;36mapi_request\u001b[0;34m(url, method, data, params, timeout, auth)\u001b[0m\n\u001b[1;32m    628\u001b[0m     \u001b[0;32mtry\u001b[0m\u001b[0;34m:\u001b[0m\u001b[0;34m\u001b[0m\u001b[0;34m\u001b[0m\u001b[0m\n\u001b[0;32m--> 629\u001b[0;31m         \u001b[0mresponse\u001b[0m \u001b[0;34m=\u001b[0m \u001b[0murlopen\u001b[0m\u001b[0;34m(\u001b[0m\u001b[0mrequest\u001b[0m\u001b[0;34m,\u001b[0m \u001b[0mencoded_data\u001b[0m\u001b[0;34m,\u001b[0m \u001b[0mtimeout\u001b[0m\u001b[0;34m)\u001b[0m\u001b[0;34m\u001b[0m\u001b[0;34m\u001b[0m\u001b[0m\n\u001b[0m\u001b[1;32m    630\u001b[0m         \u001b[0mresponse_data\u001b[0m \u001b[0;34m=\u001b[0m \u001b[0mresponse\u001b[0m\u001b[0;34m.\u001b[0m\u001b[0mread\u001b[0m\u001b[0;34m(\u001b[0m\u001b[0;34m)\u001b[0m\u001b[0;34m.\u001b[0m\u001b[0mdecode\u001b[0m\u001b[0;34m(\u001b[0m\u001b[0;34m\"utf-8\"\u001b[0m\u001b[0;34m)\u001b[0m\u001b[0;34m\u001b[0m\u001b[0;34m\u001b[0m\u001b[0m\n",
            "\u001b[0;32m/usr/lib/python3.12/urllib/request.py\u001b[0m in \u001b[0;36murlopen\u001b[0;34m(url, data, timeout, cafile, capath, cadefault, context)\u001b[0m\n\u001b[1;32m    214\u001b[0m         \u001b[0mopener\u001b[0m \u001b[0;34m=\u001b[0m \u001b[0m_opener\u001b[0m\u001b[0;34m\u001b[0m\u001b[0;34m\u001b[0m\u001b[0m\n\u001b[0;32m--> 215\u001b[0;31m     \u001b[0;32mreturn\u001b[0m \u001b[0mopener\u001b[0m\u001b[0;34m.\u001b[0m\u001b[0mopen\u001b[0m\u001b[0;34m(\u001b[0m\u001b[0murl\u001b[0m\u001b[0;34m,\u001b[0m \u001b[0mdata\u001b[0m\u001b[0;34m,\u001b[0m \u001b[0mtimeout\u001b[0m\u001b[0;34m)\u001b[0m\u001b[0;34m\u001b[0m\u001b[0;34m\u001b[0m\u001b[0m\n\u001b[0m\u001b[1;32m    216\u001b[0m \u001b[0;34m\u001b[0m\u001b[0m\n",
            "\u001b[0;32m/usr/lib/python3.12/urllib/request.py\u001b[0m in \u001b[0;36mopen\u001b[0;34m(self, fullurl, data, timeout)\u001b[0m\n\u001b[1;32m    520\u001b[0m             \u001b[0mmeth\u001b[0m \u001b[0;34m=\u001b[0m \u001b[0mgetattr\u001b[0m\u001b[0;34m(\u001b[0m\u001b[0mprocessor\u001b[0m\u001b[0;34m,\u001b[0m \u001b[0mmeth_name\u001b[0m\u001b[0;34m)\u001b[0m\u001b[0;34m\u001b[0m\u001b[0;34m\u001b[0m\u001b[0m\n\u001b[0;32m--> 521\u001b[0;31m             \u001b[0mresponse\u001b[0m \u001b[0;34m=\u001b[0m \u001b[0mmeth\u001b[0m\u001b[0;34m(\u001b[0m\u001b[0mreq\u001b[0m\u001b[0;34m,\u001b[0m \u001b[0mresponse\u001b[0m\u001b[0;34m)\u001b[0m\u001b[0;34m\u001b[0m\u001b[0;34m\u001b[0m\u001b[0m\n\u001b[0m\u001b[1;32m    522\u001b[0m \u001b[0;34m\u001b[0m\u001b[0m\n",
            "\u001b[0;32m/usr/lib/python3.12/urllib/request.py\u001b[0m in \u001b[0;36mhttp_response\u001b[0;34m(self, request, response)\u001b[0m\n\u001b[1;32m    629\u001b[0m         \u001b[0;32mif\u001b[0m \u001b[0;32mnot\u001b[0m \u001b[0;34m(\u001b[0m\u001b[0;36m200\u001b[0m \u001b[0;34m<=\u001b[0m \u001b[0mcode\u001b[0m \u001b[0;34m<\u001b[0m \u001b[0;36m300\u001b[0m\u001b[0;34m)\u001b[0m\u001b[0;34m:\u001b[0m\u001b[0;34m\u001b[0m\u001b[0;34m\u001b[0m\u001b[0m\n\u001b[0;32m--> 630\u001b[0;31m             response = self.parent.error(\n\u001b[0m\u001b[1;32m    631\u001b[0m                 'http', request, response, code, msg, hdrs)\n",
            "\u001b[0;32m/usr/lib/python3.12/urllib/request.py\u001b[0m in \u001b[0;36merror\u001b[0;34m(self, proto, *args)\u001b[0m\n\u001b[1;32m    558\u001b[0m             \u001b[0margs\u001b[0m \u001b[0;34m=\u001b[0m \u001b[0;34m(\u001b[0m\u001b[0mdict\u001b[0m\u001b[0;34m,\u001b[0m \u001b[0;34m'default'\u001b[0m\u001b[0;34m,\u001b[0m \u001b[0;34m'http_error_default'\u001b[0m\u001b[0;34m)\u001b[0m \u001b[0;34m+\u001b[0m \u001b[0morig_args\u001b[0m\u001b[0;34m\u001b[0m\u001b[0;34m\u001b[0m\u001b[0m\n\u001b[0;32m--> 559\u001b[0;31m             \u001b[0;32mreturn\u001b[0m \u001b[0mself\u001b[0m\u001b[0;34m.\u001b[0m\u001b[0m_call_chain\u001b[0m\u001b[0;34m(\u001b[0m\u001b[0;34m*\u001b[0m\u001b[0margs\u001b[0m\u001b[0;34m)\u001b[0m\u001b[0;34m\u001b[0m\u001b[0;34m\u001b[0m\u001b[0m\n\u001b[0m\u001b[1;32m    560\u001b[0m \u001b[0;34m\u001b[0m\u001b[0m\n",
            "\u001b[0;32m/usr/lib/python3.12/urllib/request.py\u001b[0m in \u001b[0;36m_call_chain\u001b[0;34m(self, chain, kind, meth_name, *args)\u001b[0m\n\u001b[1;32m    491\u001b[0m             \u001b[0mfunc\u001b[0m \u001b[0;34m=\u001b[0m \u001b[0mgetattr\u001b[0m\u001b[0;34m(\u001b[0m\u001b[0mhandler\u001b[0m\u001b[0;34m,\u001b[0m \u001b[0mmeth_name\u001b[0m\u001b[0;34m)\u001b[0m\u001b[0;34m\u001b[0m\u001b[0;34m\u001b[0m\u001b[0m\n\u001b[0;32m--> 492\u001b[0;31m             \u001b[0mresult\u001b[0m \u001b[0;34m=\u001b[0m \u001b[0mfunc\u001b[0m\u001b[0;34m(\u001b[0m\u001b[0;34m*\u001b[0m\u001b[0margs\u001b[0m\u001b[0;34m)\u001b[0m\u001b[0;34m\u001b[0m\u001b[0;34m\u001b[0m\u001b[0m\n\u001b[0m\u001b[1;32m    493\u001b[0m             \u001b[0;32mif\u001b[0m \u001b[0mresult\u001b[0m \u001b[0;32mis\u001b[0m \u001b[0;32mnot\u001b[0m \u001b[0;32mNone\u001b[0m\u001b[0;34m:\u001b[0m\u001b[0;34m\u001b[0m\u001b[0;34m\u001b[0m\u001b[0m\n",
            "\u001b[0;32m/usr/lib/python3.12/urllib/request.py\u001b[0m in \u001b[0;36mhttp_error_default\u001b[0;34m(self, req, fp, code, msg, hdrs)\u001b[0m\n\u001b[1;32m    638\u001b[0m     \u001b[0;32mdef\u001b[0m \u001b[0mhttp_error_default\u001b[0m\u001b[0;34m(\u001b[0m\u001b[0mself\u001b[0m\u001b[0;34m,\u001b[0m \u001b[0mreq\u001b[0m\u001b[0;34m,\u001b[0m \u001b[0mfp\u001b[0m\u001b[0;34m,\u001b[0m \u001b[0mcode\u001b[0m\u001b[0;34m,\u001b[0m \u001b[0mmsg\u001b[0m\u001b[0;34m,\u001b[0m \u001b[0mhdrs\u001b[0m\u001b[0;34m)\u001b[0m\u001b[0;34m:\u001b[0m\u001b[0;34m\u001b[0m\u001b[0;34m\u001b[0m\u001b[0m\n\u001b[0;32m--> 639\u001b[0;31m         \u001b[0;32mraise\u001b[0m \u001b[0mHTTPError\u001b[0m\u001b[0;34m(\u001b[0m\u001b[0mreq\u001b[0m\u001b[0;34m.\u001b[0m\u001b[0mfull_url\u001b[0m\u001b[0;34m,\u001b[0m \u001b[0mcode\u001b[0m\u001b[0;34m,\u001b[0m \u001b[0mmsg\u001b[0m\u001b[0;34m,\u001b[0m \u001b[0mhdrs\u001b[0m\u001b[0;34m,\u001b[0m \u001b[0mfp\u001b[0m\u001b[0;34m)\u001b[0m\u001b[0;34m\u001b[0m\u001b[0;34m\u001b[0m\u001b[0m\n\u001b[0m\u001b[1;32m    640\u001b[0m \u001b[0;34m\u001b[0m\u001b[0m\n",
            "\u001b[0;31mHTTPError\u001b[0m: HTTP Error 502: Bad Gateway",
            "\nDuring handling of the above exception, another exception occurred:\n",
            "\u001b[0;31mPyngrokNgrokHTTPError\u001b[0m                     Traceback (most recent call last)",
            "\u001b[0;32m/tmp/ipython-input-3378010570.py\u001b[0m in \u001b[0;36m<cell line: 0>\u001b[0;34m()\u001b[0m\n\u001b[1;32m      3\u001b[0m \u001b[0;34m\u001b[0m\u001b[0m\n\u001b[1;32m      4\u001b[0m \u001b[0;31m# cria o túnel com ngrok\u001b[0m\u001b[0;34m\u001b[0m\u001b[0;34m\u001b[0m\u001b[0m\n\u001b[0;32m----> 5\u001b[0;31m \u001b[0mpublic_url\u001b[0m \u001b[0;34m=\u001b[0m \u001b[0mngrok\u001b[0m\u001b[0;34m.\u001b[0m\u001b[0mconnect\u001b[0m\u001b[0;34m(\u001b[0m\u001b[0;36m8501\u001b[0m\u001b[0;34m)\u001b[0m\u001b[0;34m\u001b[0m\u001b[0;34m\u001b[0m\u001b[0m\n\u001b[0m\u001b[1;32m      6\u001b[0m \u001b[0mprint\u001b[0m\u001b[0;34m(\u001b[0m\u001b[0;34m\"🌍 URL pública:\"\u001b[0m\u001b[0;34m,\u001b[0m \u001b[0mpublic_url\u001b[0m\u001b[0;34m)\u001b[0m\u001b[0;34m\u001b[0m\u001b[0;34m\u001b[0m\u001b[0m\n",
            "\u001b[0;32m/usr/local/lib/python3.12/dist-packages/pyngrok/ngrok.py\u001b[0m in \u001b[0;36mconnect\u001b[0;34m(addr, proto, name, pyngrok_config, **options)\u001b[0m\n\u001b[1;32m    389\u001b[0m     \u001b[0mlogger\u001b[0m\u001b[0;34m.\u001b[0m\u001b[0mdebug\u001b[0m\u001b[0;34m(\u001b[0m\u001b[0;34mf\"Creating tunnel with options: {options}\"\u001b[0m\u001b[0;34m)\u001b[0m\u001b[0;34m\u001b[0m\u001b[0;34m\u001b[0m\u001b[0m\n\u001b[1;32m    390\u001b[0m \u001b[0;34m\u001b[0m\u001b[0m\n\u001b[0;32m--> 391\u001b[0;31m     tunnel = NgrokTunnel(api_request(f\"{api_url}/api/tunnels\", method=\"POST\", data=options,\n\u001b[0m\u001b[1;32m    392\u001b[0m                                      timeout=pyngrok_config.request_timeout),\n\u001b[1;32m    393\u001b[0m                          pyngrok_config, api_url)\n",
            "\u001b[0;32m/usr/local/lib/python3.12/dist-packages/pyngrok/ngrok.py\u001b[0m in \u001b[0;36mapi_request\u001b[0;34m(url, method, data, params, timeout, auth)\u001b[0m\n\u001b[1;32m    648\u001b[0m         \u001b[0mlogger\u001b[0m\u001b[0;34m.\u001b[0m\u001b[0mdebug\u001b[0m\u001b[0;34m(\u001b[0m\u001b[0;34mf\"Response {status_code}: {response_data.strip()}\"\u001b[0m\u001b[0;34m)\u001b[0m\u001b[0;34m\u001b[0m\u001b[0;34m\u001b[0m\u001b[0m\n\u001b[1;32m    649\u001b[0m \u001b[0;34m\u001b[0m\u001b[0m\n\u001b[0;32m--> 650\u001b[0;31m         raise PyngrokNgrokHTTPError(f\"ngrok client exception, API returned {status_code}: {response_data}\",\n\u001b[0m\u001b[1;32m    651\u001b[0m                                     \u001b[0me\u001b[0m\u001b[0;34m.\u001b[0m\u001b[0murl\u001b[0m\u001b[0;34m,\u001b[0m\u001b[0;34m\u001b[0m\u001b[0;34m\u001b[0m\u001b[0m\n\u001b[1;32m    652\u001b[0m                                     status_code, e.reason, e.headers, response_data)\n",
            "\u001b[0;31mPyngrokNgrokHTTPError\u001b[0m: ngrok client exception, API returned 502: {\"error_code\":103,\"status_code\":502,\"msg\":\"failed to start tunnel\",\"details\":{\"err\":\"failed to start tunnel: Your account may not run more than 5 endpoints over a single ngrok agent session.\\nThe endpoints already running on this session are:\\ntn_33Re2dWZ3rt1MiCwyti2Mh8J0j7, tn_33ReBAy1yFN7IiK6yBhA9uOWcLV, tn_33ReyXLxJrNSuR2VWSpaWa9E8is, tn_33RbZ1eqBF5edWOibrnJHCej3vv, tn_33RbeSnRP6UjWgGtyqdZw9Ade43.\\nUpgrade to a Pay-as-you-go plan at: https://dashboard.ngrok.com/billing/choose-a-plan?plan=paygo\\r\\n\\r\\nERR_NGROK_324\\r\\n\"}}\n"
          ]
        }
      ]
    },
    {
      "cell_type": "code",
      "source": [
        "from google.colab import files\n",
        "files.download('/content/project/Agentes_Autonomos_Relatorio.pdf')\n"
      ],
      "metadata": {
        "id": "Ok2EWSFQWNgu"
      },
      "execution_count": null,
      "outputs": []
    },
    {
      "cell_type": "code",
      "source": [
        "# Célula 7 - parar streamlit\n",
        "!pkill -f streamlit\n",
        "# remover chave da sessão\n",
        "import os\n",
        "if \"OPENAI_API_KEY\" in os.environ:\n",
        "    del os.environ[\"OPENAI_API_KEY\"]\n",
        "print(\"Streamlit parado e chave removida (se existia).\")"
      ],
      "metadata": {
        "id": "vnIPtRJxWQx7"
      },
      "execution_count": null,
      "outputs": []
    }
  ]
}